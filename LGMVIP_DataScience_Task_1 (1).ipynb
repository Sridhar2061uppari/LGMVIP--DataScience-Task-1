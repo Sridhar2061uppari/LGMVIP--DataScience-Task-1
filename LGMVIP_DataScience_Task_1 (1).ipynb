{
  "nbformat": 4,
  "nbformat_minor": 0,
  "metadata": {
    "colab": {
      "private_outputs": true,
      "provenance": [],
      "toc_visible": true
    },
    "kernelspec": {
      "name": "python3",
      "display_name": "Python 3"
    },
    "language_info": {
      "name": "python"
    }
  },
  "cells": [
    {
      "cell_type": "markdown",
      "source": [
        "#LETS GROW MORE\n",
        "#Data Science Internship\n",
        "#Name:UPPARI SRIDHAR\n",
        "#Task-1:Iris Flowers Classification ML Project\n",
        "#Dataset:http://archive.ics.uci.edu/ml/datasets/Iris"
      ],
      "metadata": {
        "id": "AKoTLIqaAEr2"
      }
    },
    {
      "cell_type": "markdown",
      "source": [
        "# Importing Libraries"
      ],
      "metadata": {
        "id": "oY50ISsQFOzN"
      }
    },
    {
      "cell_type": "code",
      "source": [
        "import pandas as pd\n",
        "import numpy as np\n",
        "import matplotlib.pyplot as plt\n",
        "import seaborn as sns"
      ],
      "metadata": {
        "id": "MDGPUSpfCsjK"
      },
      "execution_count": null,
      "outputs": []
    },
    {
      "cell_type": "markdown",
      "source": [
        "# Importing Dataset"
      ],
      "metadata": {
        "id": "rsYK8MR8FNpr"
      }
    },
    {
      "cell_type": "code",
      "source": [
        "df = pd.read_csv('/content/Iris.csv')"
      ],
      "metadata": {
        "id": "aWD1sn1lDTqK"
      },
      "execution_count": null,
      "outputs": []
    },
    {
      "cell_type": "code",
      "source": [
        "df.head()"
      ],
      "metadata": {
        "id": "3eL67jNGFm1F"
      },
      "execution_count": null,
      "outputs": []
    },
    {
      "cell_type": "code",
      "source": [
        "df.tail()"
      ],
      "metadata": {
        "id": "EqEjU2qsGq8M"
      },
      "execution_count": null,
      "outputs": []
    },
    {
      "cell_type": "code",
      "source": [
        "df.shape"
      ],
      "metadata": {
        "id": "Oe8E7CRpHTGP"
      },
      "execution_count": null,
      "outputs": []
    },
    {
      "cell_type": "code",
      "source": [
        "df.info()"
      ],
      "metadata": {
        "id": "55XYfHwBHa1Z"
      },
      "execution_count": null,
      "outputs": []
    },
    {
      "cell_type": "code",
      "source": [
        "df.isnull().sum()"
      ],
      "metadata": {
        "id": "NzVsJc-bHfhb"
      },
      "execution_count": null,
      "outputs": []
    },
    {
      "cell_type": "code",
      "source": [
        "df.describe()"
      ],
      "metadata": {
        "id": "Evel0JP3HnEz"
      },
      "execution_count": null,
      "outputs": []
    },
    {
      "cell_type": "code",
      "source": [
        "df.Species.value_counts()"
      ],
      "metadata": {
        "id": "7ynAGqKVIScO"
      },
      "execution_count": null,
      "outputs": []
    },
    {
      "cell_type": "code",
      "source": [
        "df.max()"
      ],
      "metadata": {
        "id": "S8grlDyLInEc"
      },
      "execution_count": null,
      "outputs": []
    },
    {
      "cell_type": "code",
      "source": [
        "df.min()"
      ],
      "metadata": {
        "id": "thAVU-EzIqsw"
      },
      "execution_count": null,
      "outputs": []
    },
    {
      "cell_type": "markdown",
      "source": [
        "#Drop the column \"Id\" from dataset"
      ],
      "metadata": {
        "id": "geo3I_nFJG1U"
      }
    },
    {
      "cell_type": "code",
      "source": [
        "df.drop('Id',axis=1,inplace=True)"
      ],
      "metadata": {
        "id": "ddqQybwUIwdR"
      },
      "execution_count": null,
      "outputs": []
    },
    {
      "cell_type": "code",
      "source": [
        "df.head()"
      ],
      "metadata": {
        "id": "UEKPhQuaJXbv"
      },
      "execution_count": null,
      "outputs": []
    },
    {
      "cell_type": "markdown",
      "source": [
        "#Visualization of Dataset"
      ],
      "metadata": {
        "id": "dIaPvGJjKdNY"
      }
    },
    {
      "cell_type": "code",
      "source": [
        "sns.pairplot(df, hue='Species',size=3)\n",
        "plt.show()"
      ],
      "metadata": {
        "id": "pHNaBIQiIDcm"
      },
      "execution_count": null,
      "outputs": []
    },
    {
      "cell_type": "code",
      "source": [
        "corr = df.corr()\n",
        "sns.heatmap(corr, annot = True,cmap='Greens')"
      ],
      "metadata": {
        "id": "AvRtvRP2JoAk"
      },
      "execution_count": null,
      "outputs": []
    },
    {
      "cell_type": "markdown",
      "source": [
        "#Seperating Input columns and Output columns"
      ],
      "metadata": {
        "id": "Zxe6natbKuNq"
      }
    },
    {
      "cell_type": "code",
      "source": [
        "data = df.values\n",
        "X=data[:,0:4]\n",
        "Y=data[:,4]"
      ],
      "metadata": {
        "id": "aftAJZKuK6sC"
      },
      "execution_count": null,
      "outputs": []
    },
    {
      "cell_type": "code",
      "source": [
        "from sklearn.model_selection import train_test_split\n",
        "x_train, x_test, y_train, y_test = train_test_split(X,Y,test_size=0.2)"
      ],
      "metadata": {
        "id": "CIf8TFg4M8hy"
      },
      "execution_count": null,
      "outputs": []
    },
    {
      "cell_type": "markdown",
      "source": [
        "#Model1:Support Vector Machine"
      ],
      "metadata": {
        "id": "Oaq8UYV2NY6w"
      }
    },
    {
      "cell_type": "code",
      "source": [
        "from sklearn.svm import SVC\n",
        "model_svc = SVC()\n",
        "model_svc.fit(x_train, y_train)"
      ],
      "metadata": {
        "id": "e_fZZ8tfNUgF"
      },
      "execution_count": null,
      "outputs": []
    },
    {
      "cell_type": "code",
      "source": [
        "prediction1 = model_svc.predict(x_test)"
      ],
      "metadata": {
        "id": "2rIzkfBaNU06"
      },
      "execution_count": null,
      "outputs": []
    },
    {
      "cell_type": "markdown",
      "source": [
        "#Calculate Accuracy"
      ],
      "metadata": {
        "id": "29MmbB38OX3V"
      }
    },
    {
      "cell_type": "code",
      "source": [
        "from sklearn.metrics import accuracy_score\n",
        "print(accuracy_score(y_test,prediction1))"
      ],
      "metadata": {
        "id": "_QIazd65PASP"
      },
      "execution_count": null,
      "outputs": []
    },
    {
      "cell_type": "code",
      "source": [
        "prediction1"
      ],
      "metadata": {
        "id": "wIX3XC65PDQg"
      },
      "execution_count": null,
      "outputs": []
    },
    {
      "cell_type": "markdown",
      "source": [
        "#Model2:Logistic Regression"
      ],
      "metadata": {
        "id": "RXu9XscWPIOh"
      }
    },
    {
      "cell_type": "code",
      "source": [
        "from sklearn.linear_model import LogisticRegression\n",
        "model_LR = LogisticRegression()\n",
        "model_LR.fit(x_train,y_train)"
      ],
      "metadata": {
        "id": "rVtUcbISPGqt"
      },
      "execution_count": null,
      "outputs": []
    },
    {
      "cell_type": "markdown",
      "source": [
        "#Calculating Accuracy"
      ],
      "metadata": {
        "id": "5qcT0v00Pw8B"
      }
    },
    {
      "cell_type": "code",
      "source": [
        "prediction2 = model_LR.predict(x_test)"
      ],
      "metadata": {
        "id": "rH7TPzdTQF1x"
      },
      "execution_count": null,
      "outputs": []
    },
    {
      "cell_type": "code",
      "source": [
        "from sklearn.metrics import accuracy_score\n",
        "print(accuracy_score(y_test,prediction2))"
      ],
      "metadata": {
        "id": "6FuPM2O7QNrl"
      },
      "execution_count": null,
      "outputs": []
    },
    {
      "cell_type": "code",
      "source": [
        "prediction2"
      ],
      "metadata": {
        "id": "BiTps30KQ6oI"
      },
      "execution_count": null,
      "outputs": []
    }
  ]
}