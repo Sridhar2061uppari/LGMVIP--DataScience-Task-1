{
  "nbformat": 4,
  "nbformat_minor": 0,
  "metadata": {
    "colab": {
      "private_outputs": true,
      "provenance": [],
      "toc_visible": true
    },
    "kernelspec": {
      "name": "python3",
      "display_name": "Python 3"
    },
    "language_info": {
      "name": "python"
    }
  },
  "cells": [
    {
      "cell_type": "markdown",
      "source": [
        "#LETS GROW MORE\n",
        "#Data Science Internship\n",
        "#Name:UPPARI SRIDHAR\n",
        "#Task-3:Exploratory Data Analysis on Dataset - Terrorism\n",
        "#Dataset:https://bit.ly/2TK5Xn5"
      ],
      "metadata": {
        "id": "w266qJ3jnLAN"
      }
    },
    {
      "cell_type": "markdown",
      "source": [
        "#Importing Libraries"
      ],
      "metadata": {
        "id": "El0AxLmxmmWA"
      }
    },
    {
      "cell_type": "code",
      "source": [
        "import pandas as pd\n",
        "import numpy as np\n",
        "import matplotlib.pyplot as plt\n",
        "import seaborn as sns\n",
        "import plotly.express as px"
      ],
      "metadata": {
        "id": "unwfAocDnNY5"
      },
      "execution_count": null,
      "outputs": []
    },
    {
      "cell_type": "markdown",
      "source": [
        "#Importing Dataset"
      ],
      "metadata": {
        "id": "4I10MJWNm9BW"
      }
    },
    {
      "cell_type": "code",
      "source": [
        "df = pd.read_csv('/content/globalterrorism.csv',encoding='latin1')"
      ],
      "metadata": {
        "id": "nkw3tTP-1TX5"
      },
      "execution_count": null,
      "outputs": []
    },
    {
      "cell_type": "code",
      "source": [
        "df.head()"
      ],
      "metadata": {
        "id": "9Mvtj8LI6cDV"
      },
      "execution_count": null,
      "outputs": []
    },
    {
      "cell_type": "code",
      "source": [
        "df.tail()"
      ],
      "metadata": {
        "id": "ULJE5uxz5LuY"
      },
      "execution_count": null,
      "outputs": []
    },
    {
      "cell_type": "code",
      "source": [
        "df.info()"
      ],
      "metadata": {
        "id": "4BbBNZql5UY2"
      },
      "execution_count": null,
      "outputs": []
    },
    {
      "cell_type": "code",
      "source": [
        "df.shape"
      ],
      "metadata": {
        "id": "5200aGiL5UjZ"
      },
      "execution_count": null,
      "outputs": []
    },
    {
      "cell_type": "code",
      "source": [
        "df.isnull().sum()"
      ],
      "metadata": {
        "id": "HM9qjE346Hcs"
      },
      "execution_count": null,
      "outputs": []
    },
    {
      "cell_type": "code",
      "source": [
        "for i in df.columns:\n",
        "  print(i,end=',')"
      ],
      "metadata": {
        "id": "7aD3-_L06VEz"
      },
      "execution_count": null,
      "outputs": []
    },
    {
      "cell_type": "markdown",
      "source": [
        "#Clean The Data"
      ],
      "metadata": {
        "id": "0tBFQnik6ox6"
      }
    },
    {
      "cell_type": "code",
      "source": [
        "df=df[[\"iyear\",\"imonth\",\"iday\",\"country_txt\",\"region_txt\",\"provstate\",\"city\",\"latitude\",\"longitude\",\"location\",\"summary\",\"attacktype1_txt\",\"targtype1_txt\",\"gname\",\"motive\",\"weaptype1_txt\",\"nkill\",\"nwound\",\"addnotes\"]]"
      ],
      "metadata": {
        "id": "U-332dHh6man"
      },
      "execution_count": null,
      "outputs": []
    },
    {
      "cell_type": "code",
      "source": [
        "df.head()"
      ],
      "metadata": {
        "id": "c5nWqyVf8YHs"
      },
      "execution_count": null,
      "outputs": []
    },
    {
      "cell_type": "code",
      "source": [
        "df.rename(columns={\"iyear\":\"Year\",\"imonth\":\"Month\",\"iday\":\"Day\",\"country_txt\":\"Country\",\"region_txt\":\"Region\",\"provstate\":\"Province\",\"city\":\"City\",\"latitude\":\"Latitude\",\"longitude\":\"Longitude\",\"location\":\"Location\",\"summary\":\"Summary\",\"attacktype1_txt\":\"Attack Type\",\"targtype1_txt\":\"Target Type\",\"gname\":\"Group Name\",\"motive\":\"Motive\",\"weaptype1_txt\":\"Weapon Type\",\"nkill\":\"Killed\",\"nwound\":\"Wounded\",\"addnotes\":\"Add Notes\"},inplace=True)"
      ],
      "metadata": {
        "id": "ucprGi3e8g0z"
      },
      "execution_count": null,
      "outputs": []
    },
    {
      "cell_type": "code",
      "source": [
        "df.head()"
      ],
      "metadata": {
        "id": "CN6P8Ord8jk_"
      },
      "execution_count": null,
      "outputs": []
    },
    {
      "cell_type": "code",
      "source": [
        "df.info()"
      ],
      "metadata": {
        "id": "S1BVFDai-cjK"
      },
      "execution_count": null,
      "outputs": []
    },
    {
      "cell_type": "code",
      "source": [
        "df.shape"
      ],
      "metadata": {
        "id": "lVIUO_Qf-iUO"
      },
      "execution_count": null,
      "outputs": []
    },
    {
      "cell_type": "code",
      "source": [
        "df.isnull().sum()"
      ],
      "metadata": {
        "id": "He0SGMxA-lAi"
      },
      "execution_count": null,
      "outputs": []
    },
    {
      "cell_type": "code",
      "source": [
        "df[\"Killed\"]=df[\"Killed\"].fillna(0)\n",
        "df[\"Wounded\"]=df[\"Wounded\"].fillna(0)\n",
        "df[\"Casuality\"]=df[\"Killed\"]+df[\"Wounded\"]"
      ],
      "metadata": {
        "id": "lVYGUSf__VFr"
      },
      "execution_count": null,
      "outputs": []
    },
    {
      "cell_type": "code",
      "source": [
        "df.describe()"
      ],
      "metadata": {
        "id": "PtoeySsD_7LO"
      },
      "execution_count": null,
      "outputs": []
    },
    {
      "cell_type": "markdown",
      "source": [
        "#Visualizing The Data"
      ],
      "metadata": {
        "id": "E65Dpdk2AYMT"
      }
    },
    {
      "cell_type": "code",
      "source": [
        "#No. of Attacks in each Year\n",
        "attacks=df[\"Year\"].value_counts(dropna=False).sort_index().to_frame().reset_index().rename(columns={\"index\":\"Year\",\"Year\":\"Attacks\"}).set_index(\"Year\")"
      ],
      "metadata": {
        "id": "o8MUm757AB5y"
      },
      "execution_count": null,
      "outputs": []
    },
    {
      "cell_type": "code",
      "source": [
        "attacks.head(10)"
      ],
      "metadata": {
        "id": "Iyr4XDNqBlsW"
      },
      "execution_count": null,
      "outputs": []
    },
    {
      "cell_type": "code",
      "source": [
        "attacks.plot(kind=\"bar\",color=\"green\",figsize=(15,5),fontsize=10)\n",
        "plt.title(\"ATTACKS\",fontsize=15)\n",
        "plt.xlabel(\"Years\",fontsize=14)\n",
        "plt.ylabel(\"No. of Attacks\",fontsize=14)\n",
        "plt.show()"
      ],
      "metadata": {
        "id": "i2SKUAL2Brm4"
      },
      "execution_count": null,
      "outputs": []
    },
    {
      "cell_type": "markdown",
      "source": [
        "###From the Bar Graph\n",
        "###The Maximum Number of Attacks happened in the year:2014\n",
        "###The Least Number of Attacks happened in the year:1971"
      ],
      "metadata": {
        "id": "sZlvDVlfC6wk"
      }
    },
    {
      "cell_type": "code",
      "source": [
        "#Casuality Calculation in each year\n",
        "#Casuality = Killed + Wounded\n",
        "cas=df[[\"Year\",\"Casuality\"]].groupby(\"Year\").sum()"
      ],
      "metadata": {
        "id": "2p9tz1NAEcLL"
      },
      "execution_count": null,
      "outputs": []
    },
    {
      "cell_type": "code",
      "source": [
        "cas.head(10)"
      ],
      "metadata": {
        "id": "LTl5TE-iEgL6"
      },
      "execution_count": null,
      "outputs": []
    },
    {
      "cell_type": "code",
      "source": [
        "cas.plot(kind=\"bar\",color=\"blue\",figsize=(15,5))\n",
        "plt.title(\"Year wise Casualities\",fontsize=14)\n",
        "plt.xlabel(\"Year\",fontsize=12)\n",
        "plt.ylabel(\"Members\",fontsize=12)\n",
        "plt.show()"
      ],
      "metadata": {
        "id": "0Fal1737EklV"
      },
      "execution_count": null,
      "outputs": []
    },
    {
      "cell_type": "markdown",
      "source": [
        "###The most Casualities in 2014 and least i  1971"
      ],
      "metadata": {
        "id": "05ljwWmLGAIU"
      }
    },
    {
      "cell_type": "code",
      "source": [
        "#Region wise Attacks\n",
        "reg=pd.crosstab(df.Year,df.Region)\n",
        "reg.head()"
      ],
      "metadata": {
        "id": "aIg63mVZGKSn"
      },
      "execution_count": null,
      "outputs": []
    },
    {
      "cell_type": "code",
      "source": [
        "reg.plot(kind=\"area\",stacked=False,alpha=0.5,figsize=(15,5))\n",
        "plt.title(\"Region wise Attacks\",fontsize=14)\n",
        "plt.xlabel(\"Year\",fontsize=12)\n",
        "plt.ylabel(\"Members\",fontsize=12)\n",
        "plt.show()"
      ],
      "metadata": {
        "id": "h1aX5A2VHlxf"
      },
      "execution_count": null,
      "outputs": []
    },
    {
      "cell_type": "code",
      "source": [
        "#Region wise Casualities\n",
        "rc=df[[\"Region\",\"Casuality\"]].groupby(\"Region\").sum().sort_values(by=\"Casuality\",ascending=False)\n",
        "rc"
      ],
      "metadata": {
        "id": "4mILW63dIGVP"
      },
      "execution_count": null,
      "outputs": []
    },
    {
      "cell_type": "code",
      "source": [
        "rc.plot(kind=\"bar\",color=\"blue\",figsize=(15,5))\n",
        "plt.title(\"Region wise Casualities\",fontsize=14)\n",
        "plt.xlabel(\"Region\",fontsize=12)\n",
        "plt.ylabel(\"Members\",fontsize=12)\n",
        "plt.show()"
      ],
      "metadata": {
        "id": "cpKO9SJNJTFW"
      },
      "execution_count": null,
      "outputs": []
    },
    {
      "cell_type": "code",
      "source": [
        "#Country wise attacks\n",
        "ct=df[\"Country\"].value_counts()\n",
        "ct.head(10)"
      ],
      "metadata": {
        "id": "MxbbozRSJxfw"
      },
      "execution_count": null,
      "outputs": []
    },
    {
      "cell_type": "code",
      "source": [
        "ct.tail(10)"
      ],
      "metadata": {
        "id": "9rMeZ-lNK_FY"
      },
      "execution_count": null,
      "outputs": []
    },
    {
      "cell_type": "code",
      "source": [
        "#Killed in each country\n",
        "cnk=df[[\"Country\",\"Killed\"]].groupby(\"Country\").sum().sort_values(by=\"Killed\",ascending=False)\n",
        "cnk.head(10)"
      ],
      "metadata": {
        "id": "pzkTt1GyLFd2"
      },
      "execution_count": null,
      "outputs": []
    },
    {
      "cell_type": "code",
      "source": [
        "#City wise attacks\n",
        "city=df[\"City\"].value_counts()[1:11]\n",
        "city"
      ],
      "metadata": {
        "id": "teS6HeA-L8WT"
      },
      "execution_count": null,
      "outputs": []
    },
    {
      "cell_type": "code",
      "source": [
        "city.plot(kind=\"bar\",color=\"blue\",figsize=(15,5))\n",
        "plt.title(\"City wise Attacks\",fontsize=14)\n",
        "plt.xlabel(\"Cities\",fontsize=12)\n",
        "plt.xticks(fontsize=12)\n",
        "plt.ylabel(\"No. of Attacks\",fontsize=12)\n",
        "plt.show()"
      ],
      "metadata": {
        "id": "0KUftIb3McfI"
      },
      "execution_count": null,
      "outputs": []
    },
    {
      "cell_type": "code",
      "source": [
        "#Number of attacks by each Group\n",
        "grp=df[\"Group Name\"].value_counts()[1:10]\n",
        "grp"
      ],
      "metadata": {
        "id": "Ow3oVdmkMqhj"
      },
      "execution_count": null,
      "outputs": []
    },
    {
      "cell_type": "code",
      "source": [
        "grp.plot(kind=\"bar\",color=\"blue\",figsize=(15,5))\n",
        "plt.title(\"Group wise Attacks\",fontsize=14)\n",
        "plt.xlabel(\"Groups\",fontsize=12)\n",
        "plt.xticks(fontsize=12)\n",
        "plt.ylabel(\"No. of Attacks\",fontsize=12)\n",
        "plt.show()"
      ],
      "metadata": {
        "id": "Ixj-dEEgKLyB"
      },
      "execution_count": null,
      "outputs": []
    },
    {
      "cell_type": "code",
      "source": [
        "#Number of attacks by each Attack Type\n",
        "at=df[\"Attack Type\"].value_counts()\n",
        "at"
      ],
      "metadata": {
        "id": "9R3WUjebNZFZ"
      },
      "execution_count": null,
      "outputs": []
    },
    {
      "cell_type": "code",
      "source": [
        "at.plot(kind=\"bar\",color=\"blue\",figsize=(15,5))\n",
        "plt.title(\"Types of Attacks\",fontsize=14)\n",
        "plt.xlabel(\"Attack Types\",fontsize=12)\n",
        "plt.xticks(fontsize=12)\n",
        "plt.ylabel(\"No. of Attacks\",fontsize=12)\n",
        "plt.show()"
      ],
      "metadata": {
        "id": "VPWd7clkN5Qp"
      },
      "execution_count": null,
      "outputs": []
    },
    {
      "cell_type": "code",
      "source": [
        "#Number of Attacks over each Target Type\n",
        "ta=df[\"Target Type\"].value_counts()\n",
        "ta"
      ],
      "metadata": {
        "id": "fjqm7a7uOR74"
      },
      "execution_count": null,
      "outputs": []
    },
    {
      "cell_type": "code",
      "source": [
        "#Group + Country wise Attacks\n",
        "gca=df[[\"Group Name\",\"Country\"]].value_counts().drop(\"Unknown\")\n",
        "gca.head(10)"
      ],
      "metadata": {
        "id": "erjiYQxHOw8X"
      },
      "execution_count": null,
      "outputs": []
    },
    {
      "cell_type": "code",
      "source": [
        "#Total Number of Cacualities due to Terrorist Attacks from 1970 to 2017\n",
        "totalc=df.loc[:,\"Casuality\"].sum()\n",
        "totalc"
      ],
      "metadata": {
        "id": "NNN3WMXEPjfM"
      },
      "execution_count": null,
      "outputs": []
    },
    {
      "cell_type": "code",
      "source": [
        "#Total Number of people Killed due to Terrorist Attacks from 1970 to 2017\n",
        "totalk=df.loc[:,\"Killed\"].sum()\n",
        "totalk"
      ],
      "metadata": {
        "id": "okgOfVc0QTlc"
      },
      "execution_count": null,
      "outputs": []
    },
    {
      "cell_type": "code",
      "source": [
        "#Total Number of people Wounded due to Terrorist Attacks from 1970 to 2017\n",
        "totalw=df.loc[:,\"Wounded\"].sum()\n",
        "totalw"
      ],
      "metadata": {
        "id": "01gUIoHzQqdr"
      },
      "execution_count": null,
      "outputs": []
    }
  ]
}